{
 "cells": [
  {
   "cell_type": "markdown",
   "metadata": {},
   "source": [
    "## Насонов Иван - 13 вариант"
   ]
  },
  {
   "cell_type": "code",
   "execution_count": 1,
   "metadata": {},
   "outputs": [],
   "source": [
    "import numpy as np\n",
    "import random"
   ]
  },
  {
   "cell_type": "markdown",
   "metadata": {},
   "source": [
    "### Задание 1"
   ]
  },
  {
   "cell_type": "code",
   "execution_count": 2,
   "metadata": {},
   "outputs": [],
   "source": [
    "products = ['автомобиль HAVAL', 'обувь', 'одежда', 'телефоны']\n",
    "prices = [20000, 3000, 45600, 5000]"
   ]
  },
  {
   "cell_type": "code",
   "execution_count": 3,
   "metadata": {},
   "outputs": [
    {
     "name": "stdout",
     "output_type": "stream",
     "text": [
      "автомобиль HAVAL [85, 56, 88, 16, 71, 37, 23, 20, 34, 77, 16, 107, 73, 9, 89]\n",
      "обувь [96, 67, 82, 23, 26, 67, 22, 98, 71, 20, 43, 20, 5, 108, 38]\n",
      "одежда [60, 59, 65, 11, 17, 32, 18, 14, 111, 91, 97, 30, 101, 60, 108]\n",
      "телефоны [28, 97, 19, 47, 61, 79, 40, 50, 93, 90, 80, 87, 97, 96, 74]\n"
     ]
    }
   ],
   "source": [
    "variant = 13\n",
    "\n",
    "sales = []\n",
    "for _ in range(len(products)):\n",
    "    sales.append([random.randint(0, variant+100) for i in range(100_000)])\n",
    "\n",
    "for i in range(len(sales)):\n",
    "    print(products[i], sales[i][:15])\n",
    "\n",
    "summ_py = []"
   ]
  },
  {
   "cell_type": "markdown",
   "metadata": {},
   "source": [
    "##### Классический python"
   ]
  },
  {
   "cell_type": "code",
   "execution_count": 4,
   "metadata": {},
   "outputs": [
    {
     "name": "stdout",
     "output_type": "stream",
     "text": [
      "44.4 ms ± 606 µs per loop (mean ± std. dev. of 7 runs, 10 loops each)\n"
     ]
    }
   ],
   "source": [
    "%%timeit\n",
    "\n",
    "for i in range(len(sales)):\n",
    "    sum_item = 0\n",
    "    for j in range(len(sales[i])):\n",
    "        sum_item += prices[i] * sales[i][j]\n",
    "    summ_py.append(sum_item)"
   ]
  },
  {
   "cell_type": "code",
   "execution_count": 5,
   "metadata": {},
   "outputs": [
    {
     "name": "stdout",
     "output_type": "stream",
     "text": [
      "Продажи  автомобиль HAVAL 112801020000\n",
      "Продажи  обувь 16957533000\n",
      "Продажи  одежда 258100377600\n",
      "Продажи  телефоны 28164860000\n"
     ]
    }
   ],
   "source": [
    "for i in range(len(sales)):\n",
    "    print(\"Продажи \", products[i], summ_py[i])"
   ]
  },
  {
   "cell_type": "markdown",
   "metadata": {},
   "source": [
    "##### Numpy"
   ]
  },
  {
   "cell_type": "code",
   "execution_count": 6,
   "metadata": {},
   "outputs": [],
   "source": [
    "products = np.array(products)\n",
    "prices = np.array(prices)\n",
    "sales = np.array(sales)\n",
    "summ_np = []"
   ]
  },
  {
   "cell_type": "code",
   "execution_count": 8,
   "metadata": {},
   "outputs": [
    {
     "name": "stdout",
     "output_type": "stream",
     "text": [
      "208 µs ± 4.31 µs per loop (mean ± std. dev. of 7 runs, 1,000 loops each)\n"
     ]
    }
   ],
   "source": [
    "%%timeit\n",
    "\n",
    "for i in range(sales.shape[0]):\n",
    "    summ_np.append(np.sum(prices[i] * sales[i]))"
   ]
  },
  {
   "cell_type": "code",
   "execution_count": 9,
   "metadata": {},
   "outputs": [
    {
     "name": "stdout",
     "output_type": "stream",
     "text": [
      "Продажи  автомобиль HAVAL 112801020000\n",
      "Продажи  обувь 16957533000\n",
      "Продажи  одежда 258100377600\n",
      "Продажи  телефоны 28164860000\n"
     ]
    }
   ],
   "source": [
    "for i in range(len(sales)):\n",
    "    print(\"Продажи \", products[i], summ_np[i])"
   ]
  },
  {
   "cell_type": "markdown",
   "metadata": {},
   "source": [
    "##### Numpy с агрегацией"
   ]
  },
  {
   "cell_type": "code",
   "execution_count": 10,
   "metadata": {},
   "outputs": [],
   "source": [
    "summ_ag = []"
   ]
  },
  {
   "cell_type": "code",
   "execution_count": 14,
   "metadata": {},
   "outputs": [
    {
     "name": "stdout",
     "output_type": "stream",
     "text": [
      "64.6 µs ± 560 ns per loop (mean ± std. dev. of 7 runs, 10,000 loops each)\n"
     ]
    }
   ],
   "source": [
    "%%timeit\n",
    "\n",
    "for i in range(sales.shape[0]):\n",
    "    summ_ag.append(sales[i].sum() * prices[i])"
   ]
  },
  {
   "cell_type": "code",
   "execution_count": 15,
   "metadata": {},
   "outputs": [
    {
     "name": "stdout",
     "output_type": "stream",
     "text": [
      "Продажи  автомобиль HAVAL 112801020000\n",
      "Продажи  обувь 16957533000\n",
      "Продажи  одежда 258100377600\n",
      "Продажи  телефоны 28164860000\n"
     ]
    }
   ],
   "source": [
    "for i in range(len(sales)):\n",
    "    print(\"Продажи \", products[i], summ_ag[i])"
   ]
  },
  {
   "cell_type": "markdown",
   "metadata": {},
   "source": [
    "### Задание 2"
   ]
  },
  {
   "cell_type": "markdown",
   "metadata": {},
   "source": [
    "##### Моя реализация"
   ]
  },
  {
   "cell_type": "code",
   "execution_count": 24,
   "metadata": {},
   "outputs": [
    {
     "data": {
      "text/plain": [
       "array([53, 63,  9, -1, 79, 48, 81, 55, 28, 63])"
      ]
     },
     "execution_count": 24,
     "metadata": {},
     "output_type": "execute_result"
    }
   ],
   "source": [
    "sort_arr = np.random.randint(low=-100, high=100, size=(50,))\n",
    "sort_arr[:10]"
   ]
  },
  {
   "cell_type": "code",
   "execution_count": 21,
   "metadata": {},
   "outputs": [],
   "source": [
    "def heapify(arr, n, i):\n",
    "    largest = i\n",
    "    l = 2 * i + 1\n",
    "    r = 2 * i + 2\n",
    "\n",
    "    if l < n and arr[i] < arr[l]:\n",
    "        largest = l\n",
    "\n",
    "    if r < n and arr[largest] < arr[r]:\n",
    "        largest = r\n",
    "\n",
    "    if largest != i:\n",
    "        arr[i], arr[largest] = arr[largest], arr[i]\n",
    "        heapify(arr, n, largest)\n",
    "\n",
    "def heap_sort(arr):\n",
    "    n = len(arr)\n",
    "\n",
    "    for i in range(n // 2 - 1, -1, -1):\n",
    "        heapify(arr, n, i)\n",
    "\n",
    "    for i in range(n - 1, 0, -1):\n",
    "        arr[i], arr[0] = arr[0], arr[i]\n",
    "        heapify(arr, i, 0)"
   ]
  },
  {
   "cell_type": "code",
   "execution_count": 26,
   "metadata": {},
   "outputs": [
    {
     "name": "stdout",
     "output_type": "stream",
     "text": [
      "189 µs ± 1.49 µs per loop (mean ± std. dev. of 7 runs, 10,000 loops each)\n"
     ]
    }
   ],
   "source": [
    "%%timeit\n",
    "heap_sort(np.random.randint(low=-100, high=100, size=(50,)))"
   ]
  },
  {
   "cell_type": "markdown",
   "metadata": {},
   "source": [
    "##### Реализация np.sort"
   ]
  },
  {
   "cell_type": "code",
   "execution_count": 25,
   "metadata": {},
   "outputs": [
    {
     "name": "stdout",
     "output_type": "stream",
     "text": [
      "11.8 µs ± 62.2 ns per loop (mean ± std. dev. of 7 runs, 100,000 loops each)\n"
     ]
    }
   ],
   "source": [
    "%%timeit\n",
    "np.sort(np.random.randint(low=-100, high=100, size=(50,)))"
   ]
  },
  {
   "cell_type": "markdown",
   "metadata": {},
   "source": [
    "##### Реализация heapq через python"
   ]
  },
  {
   "cell_type": "code",
   "execution_count": 27,
   "metadata": {},
   "outputs": [],
   "source": [
    "import heapq\n",
    "\n",
    "def HeapSort(arr):\n",
    "    heapq.heapify(arr)\n",
    "    result = []\n",
    "    while arr:\n",
    "        result.append(heapq.heappop(arr))\n",
    "    return result"
   ]
  },
  {
   "cell_type": "code",
   "execution_count": 29,
   "metadata": {},
   "outputs": [
    {
     "name": "stdout",
     "output_type": "stream",
     "text": [
      "38.1 µs ± 37.4 ns per loop (mean ± std. dev. of 7 runs, 10,000 loops each)\n"
     ]
    }
   ],
   "source": [
    "%%timeit\n",
    "HeapSort([random.randint(-100, 100) for i in range(50)])"
   ]
  },
  {
   "cell_type": "markdown",
   "metadata": {},
   "source": [
    "### Задание 3"
   ]
  },
  {
   "cell_type": "code",
   "execution_count": 36,
   "metadata": {},
   "outputs": [
    {
     "data": {
      "text/plain": [
       "array([['country', 'beer_servings', 'spirit_servings', 'wine_servings',\n",
       "        'total_litres_of_pure_alcohol'],\n",
       "       ['Afghanistan', '0', '0', '0', '0.0'],\n",
       "       ['Albania', '89', '132', '54', '4.9'],\n",
       "       ['Algeria', '25', '0', '14', '0.7'],\n",
       "       ['Andorra', '245', '138', '312', '12.4']], dtype='<U28')"
      ]
     },
     "execution_count": 36,
     "metadata": {},
     "output_type": "execute_result"
    }
   ],
   "source": [
    "data_drinks = np.loadtxt(\"data/drinks.csv\",\n",
    "                 delimiter=\",\", dtype=str)\n",
    "\n",
    "data_drinks[:5]"
   ]
  },
  {
   "cell_type": "code",
   "execution_count": 39,
   "metadata": {},
   "outputs": [],
   "source": [
    "data_arr = np.zeros(\n",
    "    data_drinks.shape[0] - 1,\n",
    "    dtype={\n",
    "        \"names\" : ['country', 'beer_servings', 'spirit_servings', 'wine_servings', 'total_litres_of_pure_alcohol'],\n",
    "        \"formats\" : [\"U28\", \"i4\", \"i4\", \"i4\", \"f8\"]\n",
    "    }\n",
    ")"
   ]
  },
  {
   "cell_type": "code",
   "execution_count": 45,
   "metadata": {},
   "outputs": [],
   "source": [
    "data_arr['country'] = data_drinks[1:, [0]].reshape(data_drinks.shape[0] - 1,)\n",
    "data_arr['beer_servings'] = [int(i) for i in data_drinks[1:, [1]]]\n",
    "data_arr['spirit_servings'] = [int(i) for i in data_drinks[1:, [2]]]\n",
    "data_arr['wine_servings'] = [int(i) for i in data_drinks[1:, [3]]]\n",
    "data_arr['total_litres_of_pure_alcohol'] = [float(i) for i in data_drinks[1:, [4]]]"
   ]
  },
  {
   "cell_type": "code",
   "execution_count": 42,
   "metadata": {},
   "outputs": [
    {
     "name": "stdout",
     "output_type": "stream",
     "text": [
      "Больше всего пива ['Namibia'] = 376\n",
      "Больше всего джина ['Grenada'] 438\n",
      "Больше всего вина ['France'] 370\n",
      "Больше всего суммарное потребление алкоголя ['Belarus'] 14.4\n"
     ]
    }
   ],
   "source": [
    "print(\n",
    "    \"Больше всего пива\",\n",
    "    data_arr[data_arr['beer_servings'] == data_arr['beer_servings'].max()]['country'], '=',\n",
    "    data_arr['beer_servings'].max()\n",
    ")\n",
    "\n",
    "print(\n",
    "    \"Больше всего джина\",\n",
    "    data_arr[data_arr['spirit_servings'] == data_arr['spirit_servings'].max()]['country'],\n",
    "    data_arr['spirit_servings'].max()\n",
    ")\n",
    "\n",
    "print(\n",
    "    \"Больше всего вина\",\n",
    "    data_arr[data_arr['wine_servings'] == data_arr['wine_servings'].max()]['country'],\n",
    "    data_arr['wine_servings'].max()\n",
    ")\n",
    "\n",
    "print(\n",
    "    \"Больше всего суммарное потребление алкоголя\",\n",
    "    data_arr[data_arr['total_litres_of_pure_alcohol'] == data_arr['total_litres_of_pure_alcohol'].max()]['country'],\n",
    "    data_arr['total_litres_of_pure_alcohol'].max()\n",
    ")"
   ]
  },
  {
   "cell_type": "markdown",
   "metadata": {},
   "source": [
    "### Задание 4"
   ]
  },
  {
   "cell_type": "markdown",
   "metadata": {},
   "source": [
    "Я не согласен что проклятия в фильмах это все данные типа `word`. Например слова `dick`, `dicks`, `chickenshit`, `cockblockery`, `cocksucker` или `cunt` не похожи на проклятия. Поэтому в этом задании я буду делать отсев по словам схожих со словом `fuck`"
   ]
  },
  {
   "cell_type": "code",
   "execution_count": 112,
   "metadata": {},
   "outputs": [
    {
     "data": {
      "text/plain": [
       "array([['movie', 'type', 'word', 'minutes_in'],\n",
       "       ['Reservoir Dogs', 'word', 'dick', '0.40'],\n",
       "       ['Reservoir Dogs', 'word', 'dicks', '0.43'],\n",
       "       ['Reservoir Dogs', 'word', 'fucked', '0.55'],\n",
       "       ['Reservoir Dogs', 'word', 'fucking', '0.61']], dtype='<U19')"
      ]
     },
     "execution_count": 112,
     "metadata": {},
     "output_type": "execute_result"
    }
   ],
   "source": [
    "data_tr = np.loadtxt(\"data/tarantino.csv\",\n",
    "                 delimiter=\",\", dtype=str)\n",
    "\n",
    "data_tr[:5]"
   ]
  },
  {
   "cell_type": "code",
   "execution_count": 44,
   "metadata": {},
   "outputs": [],
   "source": [
    "data_arr_t = np.zeros(\n",
    "    data_tr.shape[0] - 1,\n",
    "    dtype={\n",
    "        \"names\" : ['movie', 'type', 'word', 'minutes_in'],\n",
    "        \"formats\" : [\"U28\", \"U16\", \"U16\", \"f8\"]\n",
    "    }\n",
    ")"
   ]
  },
  {
   "cell_type": "code",
   "execution_count": 47,
   "metadata": {},
   "outputs": [],
   "source": [
    "data_arr_t['movie'] = data_tr[1:, [0]].reshape(data_tr.shape[0] - 1,)\n",
    "data_arr_t['type'] = data_tr[1:, [1]].reshape(data_tr.shape[0] - 1,)\n",
    "data_arr_t['word'] = data_tr[1:, [2]].reshape(data_tr.shape[0] - 1,)\n",
    "data_arr_t['minutes_in'] = [float(i) for i in data_tr[1:, [3]]]"
   ]
  },
  {
   "cell_type": "markdown",
   "metadata": {},
   "source": [
    "Определяем число проклятий, летальных исходов и их отношение по фильмам "
   ]
  },
  {
   "cell_type": "code",
   "execution_count": 85,
   "metadata": {},
   "outputs": [
    {
     "name": "stdout",
     "output_type": "stream",
     "text": [
      "Число проклятий во всех фильмам 772\n",
      "Число смертей во всех фильмах 190\n"
     ]
    }
   ],
   "source": [
    "import re\n",
    "\n",
    "print(\n",
    "    \"Число проклятий во всех фильмам\",\n",
    "    len(re.findall(r'fuc\\w+', str([i for i in data_arr_t['word']])))\n",
    ")\n",
    "\n",
    "print(\n",
    "    \"Число смертей во всех фильмах\",\n",
    "    len(re.findall(r'death', str([i for i in data_arr_t['type']])))\n",
    ")"
   ]
  },
  {
   "cell_type": "code",
   "execution_count": 96,
   "metadata": {},
   "outputs": [
    {
     "name": "stdout",
     "output_type": "stream",
     "text": [
      "Проклятий в фильме Jackie Brown - 140\n",
      "Смертей в фильме Jackie Brown - 4 \n",
      "\n",
      "Проклятий в фильме Kill Bill: Vol. 1 - 17\n",
      "Смертей в фильме Kill Bill: Vol. 1 - 63 \n",
      "\n",
      "Проклятий в фильме Django Unchained - 32\n",
      "Смертей в фильме Django Unchained - 47 \n",
      "\n",
      "Проклятий в фильме Inglorious Basterds - 21\n",
      "Смертей в фильме Inglorious Basterds - 48 \n",
      "\n",
      "Проклятий в фильме Reservoir Dogs - 271\n",
      "Смертей в фильме Reservoir Dogs - 10 \n",
      "\n",
      "Проклятий в фильме Pulp Fiction - 267\n",
      "Смертей в фильме Pulp Fiction - 7 \n",
      "\n",
      "Проклятий в фильме Kill Bill: Vol. 2 - 24\n",
      "Смертей в фильме Kill Bill: Vol. 2 - 11 \n",
      "\n"
     ]
    }
   ],
   "source": [
    "unique_movies = np.array(list(set(data_arr_t['movie'])))\n",
    "\n",
    "for movie in unique_movies:\n",
    "    print(\"Проклятий в фильме\", movie, '-',\n",
    "          len(re.findall(r'fuc\\w+', str([i for i in data_arr_t[data_arr_t['movie'] == movie]['word']]))))\n",
    "    print(\"Смертей в фильме\", movie, '-',\n",
    "          len(re.findall(r'death', str([i for i in data_arr_t[data_arr_t['movie'] == movie]['type']]))), '\\n')"
   ]
  },
  {
   "cell_type": "markdown",
   "metadata": {},
   "source": [
    "Определяем частоту употребления конкретных прокрятий "
   ]
  },
  {
   "cell_type": "code",
   "execution_count": 104,
   "metadata": {},
   "outputs": [
    {
     "name": "stdout",
     "output_type": "stream",
     "text": [
      "Всего проклятий  fuckup - 1\n",
      "Всего проклятий  fucker - 8\n",
      "Всего проклятий  fuckers - 1\n",
      "Всего проклятий  fucks - 3\n",
      "Всего проклятий  fuckface - 1\n",
      "Всего проклятий  fuck - 213\n",
      "Всего проклятий  fucking - 407\n",
      "Всего проклятий  fuckhead - 1\n",
      "Всего проклятий  fucked - 25\n"
     ]
    }
   ],
   "source": [
    "unique_fucks = np.array(list(set(re.findall(r'fuc\\w+', str([i for i in data_arr_t['word']])))))\n",
    "\n",
    "for fuck in unique_fucks:\n",
    "    print(\"Всего проклятий \", fuck, '-',\n",
    "          len(data_arr_t[data_arr_t['word'] == fuck]))"
   ]
  },
  {
   "cell_type": "markdown",
   "metadata": {},
   "source": [
    "Определяем распределение времени между проклятиями "
   ]
  },
  {
   "cell_type": "code",
   "execution_count": 144,
   "metadata": {},
   "outputs": [
    {
     "data": {
      "image/png": "[encoded data removed]",
      "text/plain": [
       "<Figure size 600x400 with 1 Axes>"
      ]
     },
     "metadata": {},
     "output_type": "display_data"
    }
   ],
   "source": [
    "import matplotlib.pyplot as plt\n",
    "\n",
    "fig, axs = plt.subplots(figsize=(6,4))\n",
    "n_bins = len(unique_fucks)\n",
    "\n",
    "axs.hist([float(i) for i in data_arr_t[data_arr_t['word'] == fuck]['minutes_in']], bins=n_bins)\n",
    "plt.show()"
   ]
  },
  {
   "cell_type": "code",
   "execution_count": null,
   "metadata": {},
   "outputs": [],
   "source": []
  }
 ],
 "metadata": {
  "kernelspec": {
   "display_name": "Python 3.10.9 64-bit",
   "language": "python",
   "name": "python3"
  },
  "language_info": {
   "codemirror_mode": {
    "name": "ipython",
    "version": 3
   },
   "file_extension": ".py",
   "mimetype": "text/x-python",
   "name": "python",
   "nbconvert_exporter": "python",
   "pygments_lexer": "ipython3",
   "version": "3.10.9"
  },
  "orig_nbformat": 4,
  "vscode": {
   "interpreter": {
    "hash": "aee8b7b246df8f9039afb4144a1f6fd8d2ca17a180786b69acc140d282b71a49"
   }
  }
 },
 "nbformat": 4,
 "nbformat_minor": 2
}
