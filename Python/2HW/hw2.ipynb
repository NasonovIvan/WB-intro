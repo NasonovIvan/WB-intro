{
 "cells": [
  {
   "cell_type": "markdown",
   "metadata": {},
   "source": [
    "## Насонов Иван - 13 вариант"
   ]
  },
  {
   "cell_type": "code",
   "execution_count": 8,
   "metadata": {},
   "outputs": [],
   "source": [
    "import numpy as np\n",
    "import random"
   ]
  },
  {
   "cell_type": "markdown",
   "metadata": {},
   "source": [
    "### Задание 1"
   ]
  },
  {
   "cell_type": "code",
   "execution_count": 2,
   "metadata": {},
   "outputs": [],
   "source": [
    "products = ['автомобиль HAVAL', 'обувь', 'одежда', 'телефоны']\n",
    "prices = [20000, 3000, 45600, 5000]"
   ]
  },
  {
   "cell_type": "code",
   "execution_count": 3,
   "metadata": {},
   "outputs": [
    {
     "name": "stdout",
     "output_type": "stream",
     "text": [
      "автомобиль HAVAL [85, 56, 88, 16, 71, 37, 23, 20, 34, 77, 16, 107, 73, 9, 89]\n",
      "обувь [96, 67, 82, 23, 26, 67, 22, 98, 71, 20, 43, 20, 5, 108, 38]\n",
      "одежда [60, 59, 65, 11, 17, 32, 18, 14, 111, 91, 97, 30, 101, 60, 108]\n",
      "телефоны [28, 97, 19, 47, 61, 79, 40, 50, 93, 90, 80, 87, 97, 96, 74]\n"
     ]
    }
   ],
   "source": [
    "variant = 13\n",
    "\n",
    "sales = []\n",
    "for _ in range(len(products)):\n",
    "    sales.append([random.randint(0, variant+100) for i in range(100_000)])\n",
    "\n",
    "for i in range(len(sales)):\n",
    "    print(products[i], sales[i][:15])\n",
    "\n",
    "summ_py = []"
   ]
  },
  {
   "cell_type": "markdown",
   "metadata": {},
   "source": [
    "##### Классический python"
   ]
  },
  {
   "cell_type": "code",
   "execution_count": 4,
   "metadata": {},
   "outputs": [
    {
     "name": "stdout",
     "output_type": "stream",
     "text": [
      "44.4 ms ± 606 µs per loop (mean ± std. dev. of 7 runs, 10 loops each)\n"
     ]
    }
   ],
   "source": [
    "%%timeit\n",
    "\n",
    "for i in range(len(sales)):\n",
    "    sum_item = 0\n",
    "    for j in range(len(sales[i])):\n",
    "        sum_item += prices[i] * sales[i][j]\n",
    "    summ_py.append(sum_item)"
   ]
  },
  {
   "cell_type": "code",
   "execution_count": 5,
   "metadata": {},
   "outputs": [
    {
     "name": "stdout",
     "output_type": "stream",
     "text": [
      "Продажи  автомобиль HAVAL 112801020000\n",
      "Продажи  обувь 16957533000\n",
      "Продажи  одежда 258100377600\n",
      "Продажи  телефоны 28164860000\n"
     ]
    }
   ],
   "source": [
    "for i in range(len(sales)):\n",
    "    print(\"Продажи \", products[i], summ_py[i])"
   ]
  },
  {
   "cell_type": "markdown",
   "metadata": {},
   "source": [
    "##### Numpy"
   ]
  },
  {
   "cell_type": "code",
   "execution_count": 6,
   "metadata": {},
   "outputs": [],
   "source": [
    "products = np.array(products)\n",
    "prices = np.array(prices)\n",
    "sales = np.array(sales)\n",
    "summ_np = []"
   ]
  },
  {
   "cell_type": "code",
   "execution_count": 8,
   "metadata": {},
   "outputs": [
    {
     "name": "stdout",
     "output_type": "stream",
     "text": [
      "208 µs ± 4.31 µs per loop (mean ± std. dev. of 7 runs, 1,000 loops each)\n"
     ]
    }
   ],
   "source": [
    "%%timeit\n",
    "\n",
    "for i in range(sales.shape[0]):\n",
    "    summ_np.append(np.sum(prices[i] * sales[i]))"
   ]
  },
  {
   "cell_type": "code",
   "execution_count": 9,
   "metadata": {},
   "outputs": [
    {
     "name": "stdout",
     "output_type": "stream",
     "text": [
      "Продажи  автомобиль HAVAL 112801020000\n",
      "Продажи  обувь 16957533000\n",
      "Продажи  одежда 258100377600\n",
      "Продажи  телефоны 28164860000\n"
     ]
    }
   ],
   "source": [
    "for i in range(len(sales)):\n",
    "    print(\"Продажи \", products[i], summ_np[i])"
   ]
  },
  {
   "cell_type": "markdown",
   "metadata": {},
   "source": [
    "##### Numpy с агрегацией"
   ]
  },
  {
   "cell_type": "code",
   "execution_count": 10,
   "metadata": {},
   "outputs": [],
   "source": [
    "summ_ag = []"
   ]
  },
  {
   "cell_type": "code",
   "execution_count": 14,
   "metadata": {},
   "outputs": [
    {
     "name": "stdout",
     "output_type": "stream",
     "text": [
      "64.6 µs ± 560 ns per loop (mean ± std. dev. of 7 runs, 10,000 loops each)\n"
     ]
    }
   ],
   "source": [
    "%%timeit\n",
    "\n",
    "for i in range(sales.shape[0]):\n",
    "    summ_ag.append(sales[i].sum() * prices[i])"
   ]
  },
  {
   "cell_type": "code",
   "execution_count": 15,
   "metadata": {},
   "outputs": [
    {
     "name": "stdout",
     "output_type": "stream",
     "text": [
      "Продажи  автомобиль HAVAL 112801020000\n",
      "Продажи  обувь 16957533000\n",
      "Продажи  одежда 258100377600\n",
      "Продажи  телефоны 28164860000\n"
     ]
    }
   ],
   "source": [
    "for i in range(len(sales)):\n",
    "    print(\"Продажи \", products[i], summ_ag[i])"
   ]
  },
  {
   "cell_type": "markdown",
   "metadata": {},
   "source": [
    "### Задание 2"
   ]
  },
  {
   "cell_type": "markdown",
   "metadata": {},
   "source": [
    "##### Моя реализация"
   ]
  },
  {
   "cell_type": "code",
   "execution_count": 24,
   "metadata": {},
   "outputs": [
    {
     "data": {
      "text/plain": [
       "array([53, 63,  9, -1, 79, 48, 81, 55, 28, 63])"
      ]
     },
     "execution_count": 24,
     "metadata": {},
     "output_type": "execute_result"
    }
   ],
   "source": [
    "sort_arr = np.random.randint(low=-100, high=100, size=(50,))\n",
    "sort_arr[:10]"
   ]
  },
  {
   "cell_type": "code",
   "execution_count": 21,
   "metadata": {},
   "outputs": [],
   "source": [
    "def heapify(arr, n, i):\n",
    "    largest = i\n",
    "    l = 2 * i + 1\n",
    "    r = 2 * i + 2\n",
    "\n",
    "    if l < n and arr[i] < arr[l]:\n",
    "        largest = l\n",
    "\n",
    "    if r < n and arr[largest] < arr[r]:\n",
    "        largest = r\n",
    "\n",
    "    if largest != i:\n",
    "        arr[i], arr[largest] = arr[largest], arr[i]\n",
    "        heapify(arr, n, largest)\n",
    "\n",
    "def heap_sort(arr):\n",
    "    n = len(arr)\n",
    "\n",
    "    for i in range(n // 2 - 1, -1, -1):\n",
    "        heapify(arr, n, i)\n",
    "\n",
    "    for i in range(n - 1, 0, -1):\n",
    "        arr[i], arr[0] = arr[0], arr[i]\n",
    "        heapify(arr, i, 0)"
   ]
  },
  {
   "cell_type": "code",
   "execution_count": 26,
   "metadata": {},
   "outputs": [
    {
     "name": "stdout",
     "output_type": "stream",
     "text": [
      "189 µs ± 1.49 µs per loop (mean ± std. dev. of 7 runs, 10,000 loops each)\n"
     ]
    }
   ],
   "source": [
    "%%timeit\n",
    "heap_sort(np.random.randint(low=-100, high=100, size=(50,)))"
   ]
  },
  {
   "cell_type": "markdown",
   "metadata": {},
   "source": [
    "##### Реализация np.sort"
   ]
  },
  {
   "cell_type": "code",
   "execution_count": 25,
   "metadata": {},
   "outputs": [
    {
     "name": "stdout",
     "output_type": "stream",
     "text": [
      "11.8 µs ± 62.2 ns per loop (mean ± std. dev. of 7 runs, 100,000 loops each)\n"
     ]
    }
   ],
   "source": [
    "%%timeit\n",
    "np.sort(np.random.randint(low=-100, high=100, size=(50,)))"
   ]
  },
  {
   "cell_type": "markdown",
   "metadata": {},
   "source": [
    "##### Реализация heapq через python"
   ]
  },
  {
   "cell_type": "code",
   "execution_count": 27,
   "metadata": {},
   "outputs": [],
   "source": [
    "import heapq\n",
    "\n",
    "def HeapSort(arr):\n",
    "    heapq.heapify(arr)\n",
    "    result = []\n",
    "    while arr:\n",
    "        result.append(heapq.heappop(arr))\n",
    "    return result"
   ]
  },
  {
   "cell_type": "code",
   "execution_count": 29,
   "metadata": {},
   "outputs": [
    {
     "name": "stdout",
     "output_type": "stream",
     "text": [
      "38.1 µs ± 37.4 ns per loop (mean ± std. dev. of 7 runs, 10,000 loops each)\n"
     ]
    }
   ],
   "source": [
    "%%timeit\n",
    "HeapSort([random.randint(-100, 100) for i in range(50)])"
   ]
  },
  {
   "cell_type": "markdown",
   "metadata": {},
   "source": [
    "### Задание 3"
   ]
  },
  {
   "cell_type": "code",
   "execution_count": 34,
   "metadata": {},
   "outputs": [
    {
     "data": {
      "text/plain": [
       "array([['country', 'beer_servings', 'spirit_servings', 'wine_servings',\n",
       "        'total_litres_of_pure_alcohol'],\n",
       "       ['Afghanistan', '0', '0', '0', '0.0'],\n",
       "       ['Albania', '89', '132', '54', '4.9'],\n",
       "       ['Algeria', '25', '0', '14', '0.7'],\n",
       "       ['Andorra', '245', '138', '312', '12.4']], dtype='<U28')"
      ]
     },
     "execution_count": 34,
     "metadata": {},
     "output_type": "execute_result"
    }
   ],
   "source": [
    "data = np.loadtxt(\"data/drinks.csv\",\n",
    "                 delimiter=\",\", dtype=str)\n",
    "\n",
    "data[:5]"
   ]
  },
  {
   "cell_type": "code",
   "execution_count": 36,
   "metadata": {},
   "outputs": [],
   "source": [
    "data_arr = np.zeros(\n",
    "    193,\n",
    "    dtype={\n",
    "        \"names\" : ['country', 'beer_servings', 'spirit_servings', 'wine_servings', 'total_litres_of_pure_alcohol'],\n",
    "        \"formats\" : [\"U28\", \"i4\", \"i4\", \"i4\", \"f8\"]\n",
    "    }\n",
    ")"
   ]
  },
  {
   "cell_type": "code",
   "execution_count": 37,
   "metadata": {},
   "outputs": [
    {
     "ename": "TypeError",
     "evalue": "only size-1 arrays can be converted to Python scalars",
     "output_type": "error",
     "traceback": [
      "\u001b[0;31m---------------------------------------------------------------------------\u001b[0m",
      "\u001b[0;31mTypeError\u001b[0m                                 Traceback (most recent call last)",
      "Cell \u001b[0;32mIn [37], line 2\u001b[0m\n\u001b[1;32m      1\u001b[0m data_arr[\u001b[38;5;124m'\u001b[39m\u001b[38;5;124mcountry\u001b[39m\u001b[38;5;124m'\u001b[39m] \u001b[38;5;241m=\u001b[39m data[\u001b[38;5;241m1\u001b[39m:, [\u001b[38;5;241m0\u001b[39m]]\u001b[38;5;241m.\u001b[39mreshape(\u001b[38;5;241m193\u001b[39m,)\n\u001b[0;32m----> 2\u001b[0m data_arr[\u001b[38;5;124m'\u001b[39m\u001b[38;5;124mbeer_servings\u001b[39m\u001b[38;5;124m'\u001b[39m] \u001b[38;5;241m=\u001b[39m \u001b[38;5;28;43mint\u001b[39;49m\u001b[43m(\u001b[49m\u001b[43mdata\u001b[49m\u001b[43m[\u001b[49m\u001b[38;5;241;43m1\u001b[39;49m\u001b[43m:\u001b[49m\u001b[43m,\u001b[49m\u001b[43m \u001b[49m\u001b[43m[\u001b[49m\u001b[38;5;241;43m1\u001b[39;49m\u001b[43m]\u001b[49m\u001b[43m]\u001b[49m\u001b[38;5;241;43m.\u001b[39;49m\u001b[43mreshape\u001b[49m\u001b[43m(\u001b[49m\u001b[38;5;241;43m193\u001b[39;49m\u001b[43m,\u001b[49m\u001b[43m)\u001b[49m\u001b[43m)\u001b[49m\n\u001b[1;32m      3\u001b[0m data_arr[\u001b[38;5;124m'\u001b[39m\u001b[38;5;124mspirit_servings\u001b[39m\u001b[38;5;124m'\u001b[39m] \u001b[38;5;241m=\u001b[39m \u001b[38;5;28mint\u001b[39m(data[\u001b[38;5;241m1\u001b[39m:, [\u001b[38;5;241m2\u001b[39m]]\u001b[38;5;241m.\u001b[39mreshape(\u001b[38;5;241m193\u001b[39m,))\n\u001b[1;32m      4\u001b[0m data_arr[\u001b[38;5;124m'\u001b[39m\u001b[38;5;124mwine_servings\u001b[39m\u001b[38;5;124m'\u001b[39m] \u001b[38;5;241m=\u001b[39m \u001b[38;5;28mint\u001b[39m(data[\u001b[38;5;241m1\u001b[39m:, [\u001b[38;5;241m3\u001b[39m]]\u001b[38;5;241m.\u001b[39mreshape(\u001b[38;5;241m193\u001b[39m,))\n",
      "\u001b[0;31mTypeError\u001b[0m: only size-1 arrays can be converted to Python scalars"
     ]
    }
   ],
   "source": [
    "data_arr['country'] = data[1:, [0]].reshape(193,)\n",
    "data_arr['beer_servings'] = int(data[1:, [1]].reshape(193,))\n",
    "data_arr['spirit_servings'] = int(data[1:, [2]].reshape(193,))\n",
    "data_arr['wine_servings'] = int(data[1:, [3]].reshape(193,))\n",
    "data_arr['total_litres_of_pure_alcohol'] = float(data[1:, [4]].reshape(193,))"
   ]
  },
  {
   "cell_type": "code",
   "execution_count": null,
   "metadata": {},
   "outputs": [],
   "source": []
  }
 ],
 "metadata": {
  "kernelspec": {
   "display_name": "Python 3.10.9 64-bit",
   "language": "python",
   "name": "python3"
  },
  "language_info": {
   "codemirror_mode": {
    "name": "ipython",
    "version": 3
   },
   "file_extension": ".py",
   "mimetype": "text/x-python",
   "name": "python",
   "nbconvert_exporter": "python",
   "pygments_lexer": "ipython3",
   "version": "3.10.7"
  },
  "orig_nbformat": 4,
  "vscode": {
   "interpreter": {
    "hash": "aee8b7b246df8f9039afb4144a1f6fd8d2ca17a180786b69acc140d282b71a49"
   }
  }
 },
 "nbformat": 4,
 "nbformat_minor": 2
}
