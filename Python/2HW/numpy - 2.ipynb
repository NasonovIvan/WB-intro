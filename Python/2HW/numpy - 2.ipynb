{
 "cells": [
  {
   "cell_type": "markdown",
   "id": "2cf787bb-5288-485d-be1c-69ff1cc68944",
   "metadata": {},
   "source": [
    "# Коротко про NumPy - vol. II\n",
    "\n",
    "О чём сегодня поговорим:\n",
    "- агрегации (или что делать, если нам нужны скаляры)\n",
    "- операции над массивами и broadcasting (или как можно складывать нескладываемое)\n",
    "- маски и булева логика (или как выбрать только то, что нам нужно)\n",
    "- структурирвоанные массивы (или преамбула к pandas) "
   ]
  },
  {
   "cell_type": "code",
   "execution_count": 1,
   "id": "07c4645e-7a3c-4f93-bc79-a69b3960f6b9",
   "metadata": {},
   "outputs": [
    {
     "data": {
      "text/plain": [
       "'1.25.2'"
      ]
     },
     "execution_count": 1,
     "metadata": {},
     "output_type": "execute_result"
    }
   ],
   "source": [
    "import numpy as np\n",
    "np.__version__"
   ]
  },
  {
   "cell_type": "markdown",
   "id": "81a38527-dcd5-420f-92d4-0ea9889bab7f",
   "metadata": {},
   "source": [
    "# Часть 1. Агрегации"
   ]
  },
  {
   "cell_type": "markdown",
   "id": "5924e29c-2c4d-4d44-99a2-37959d7bd108",
   "metadata": {},
   "source": [
    "До этого мы преимущественно работали с массивами как таковыми. Проводили различные операции над ними, однако порой проще работать со скалярными значениями, которые представляют собой какие-то конкретные атрибуты/характеристики векторного объекта. В этом нам помогут агрегации - процедуры, направленные на объединение элементов."
   ]
  },
  {
   "cell_type": "code",
   "execution_count": 2,
   "id": "5ef6c162-a4c0-471b-bac3-c17340b435bd",
   "metadata": {},
   "outputs": [
    {
     "data": {
      "text/plain": [
       "array([ 1,  2,  3,  4,  5,  6,  7,  8,  9, 10])"
      ]
     },
     "execution_count": 2,
     "metadata": {},
     "output_type": "execute_result"
    }
   ],
   "source": [
    "x = np.arange(1, 11)\n",
    "x"
   ]
  },
  {
   "cell_type": "code",
   "execution_count": 3,
   "id": "78886475-e854-4946-82d4-1784cd8b9320",
   "metadata": {},
   "outputs": [
    {
     "name": "stdout",
     "output_type": "stream",
     "text": [
      "Сумма элементов массива:  55\n"
     ]
    }
   ],
   "source": [
    "print(\"Сумма элементов массива: \", np.sum(x))"
   ]
  },
  {
   "cell_type": "markdown",
   "id": "63e62c44-3f27-4686-9bdd-ee6b3e7f3d56",
   "metadata": {},
   "source": [
    "Кстати, обратите внимание, что лучше использовать функции и NumPy, потому что они оптимизированы под векторные вычисления, о которых мы говорили в прошлом занятии."
   ]
  },
  {
   "cell_type": "code",
   "execution_count": 4,
   "id": "db48b0c3-65b6-4fd6-ad15-8751a19c9101",
   "metadata": {},
   "outputs": [
    {
     "name": "stdout",
     "output_type": "stream",
     "text": [
      "413 ms ± 1.33 ms per loop (mean ± std. dev. of 7 runs, 1 loop each)\n",
      "1.93 ms ± 6.3 µs per loop (mean ± std. dev. of 7 runs, 1,000 loops each)\n"
     ]
    }
   ],
   "source": [
    "big_data = np.random.random(10_000_000)\n",
    "%timeit sum(big_data)\n",
    "%timeit np.sum(big_data)"
   ]
  },
  {
   "cell_type": "markdown",
   "id": "749d4bc7-849e-4796-a93e-4e14deb783e9",
   "metadata": {},
   "source": [
    "Давайте посмотрим, какие функции агрегации доступны в NumPy (обратите внимание, что это не исчерпывающий список, а лишь примеры)"
   ]
  },
  {
   "cell_type": "code",
   "execution_count": 5,
   "id": "fef1632b-6b3e-4f09-b2eb-1ff77283c79a",
   "metadata": {},
   "outputs": [
    {
     "name": "stdout",
     "output_type": "stream",
     "text": [
      "Минимальное  значение:  1\n",
      "Максимальное значение:  10\n",
      "Среднее      значение:  5.5\n",
      "Произведение значений:  3628800\n"
     ]
    }
   ],
   "source": [
    "x = np.arange(1, 11)\n",
    "print(\"Минимальное  значение: \", np.min(x))\n",
    "print(\"Максимальное значение: \", np.max(x))\n",
    "print(\"Среднее      значение: \", np.mean(x))\n",
    "print(\"Произведение значений: \", np.prod(x))"
   ]
  },
  {
   "cell_type": "markdown",
   "id": "6cfc185d-39cc-4887-b5c8-a7d3ad125e43",
   "metadata": {},
   "source": [
    "До текущего момента мы использовали агрегации только по отношению к одномерным массивам, а как обстоят дела с многомерными?"
   ]
  },
  {
   "cell_type": "code",
   "execution_count": 6,
   "id": "d4ad3e11-b613-45aa-9018-040df03bcb7a",
   "metadata": {},
   "outputs": [
    {
     "data": {
      "text/plain": [
       "array([[1, 2, 3],\n",
       "       [4, 5, 6]])"
      ]
     },
     "execution_count": 6,
     "metadata": {},
     "output_type": "execute_result"
    }
   ],
   "source": [
    "x = np.arange(1, 7).reshape(2, 3)\n",
    "x"
   ]
  },
  {
   "cell_type": "markdown",
   "id": "0960acd5-1ffa-448a-b4ae-4e2edc8867af",
   "metadata": {},
   "source": [
    "При использовании агрегаций без дополнительных параметров они будут обрабатывать все элементы, как если бы они были одномерным массивом"
   ]
  },
  {
   "cell_type": "code",
   "execution_count": 7,
   "id": "4bcab884-5092-422e-af23-beebe5a06490",
   "metadata": {},
   "outputs": [
    {
     "name": "stdout",
     "output_type": "stream",
     "text": [
      "Минимальное  значение:  1\n",
      "Максимальное значение:  6\n",
      "Среднее      значение:  3.5\n",
      "Произведение значений:  720\n"
     ]
    }
   ],
   "source": [
    "print(\"Минимальное  значение: \", np.min(x))\n",
    "print(\"Максимальное значение: \", np.max(x))\n",
    "print(\"Среднее      значение: \", np.mean(x))\n",
    "print(\"Произведение значений: \", np.prod(x))"
   ]
  },
  {
   "cell_type": "markdown",
   "id": "7ea276a9-755a-4720-b4ee-cd5fb181eef5",
   "metadata": {},
   "source": [
    "Однако в случае нескольких измерений у нас появляется возможность явно указывать измерение, вдоль которого будет производиться агрегация"
   ]
  },
  {
   "cell_type": "code",
   "execution_count": 8,
   "id": "6ad03eb6-6da3-472c-8dbc-4094d2e0aa28",
   "metadata": {},
   "outputs": [
    {
     "name": "stdout",
     "output_type": "stream",
     "text": [
      "Минимальное   значение (по  строкам):  [1 2 3]\n",
      "Минимальное   значение (по столбцам):  [1 4]\n",
      "Максимальное  значение (по  строкам):  [4 5 6]\n",
      "Максимальное  значение (по столбцам):  [3 6]\n"
     ]
    }
   ],
   "source": [
    "print(\"Минимальное   значение (по  строкам): \", np.min(x, axis=0))\n",
    "print(\"Минимальное   значение (по столбцам): \", np.min(x, axis=1))\n",
    "print(\"Максимальное  значение (по  строкам): \", np.max(x, axis=0))\n",
    "print(\"Максимальное  значение (по столбцам): \", np.max(x, axis=1))"
   ]
  },
  {
   "cell_type": "markdown",
   "id": "7fa1b273-49f2-4eb3-a07e-271e2472dcef",
   "metadata": {},
   "source": [
    "Иначе говоря: в аргументы `axis` мы указываем изменение, по которому массив будет \"схлопнут\""
   ]
  },
  {
   "cell_type": "markdown",
   "id": "d11afa67-2a04-4fa3-8c5f-fc128a8085d8",
   "metadata": {},
   "source": [
    "# Часть 2. Операции над массивами и Broadcasting"
   ]
  },
  {
   "cell_type": "markdown",
   "id": "e4262355-46ae-4e97-9ecb-c9da8e69baf0",
   "metadata": {},
   "source": [
    "## 2.1. Что такое Broadcasting"
   ]
  },
  {
   "cell_type": "markdown",
   "id": "5b73d55e-bd46-4f15-88a2-388280839ab3",
   "metadata": {},
   "source": [
    "Ранее мы применяли различные универсальные функции к объектам одной размерности (в случае с бинарными операциями), однако на этом их возможности не заканчиваются. Формально broadcast'ингом называется набор процедур, которые позволяет применять UFuncs для массивов различного размера. Посмотрим на практике, как это работает"
   ]
  },
  {
   "cell_type": "code",
   "execution_count": 9,
   "id": "e5b0129a-3400-4009-afaa-617d718f7e03",
   "metadata": {},
   "outputs": [
    {
     "name": "stdout",
     "output_type": "stream",
     "text": [
      "x + y =  [ 6 -1 -4]\n"
     ]
    }
   ],
   "source": [
    "# освежим немного память\n",
    "# массивы одной размерности\n",
    "x = np.array([1, 2, 3])\n",
    "y = np.array([5, -3, -7])\n",
    "\n",
    "print(\"x + y = \", x + y)"
   ]
  },
  {
   "cell_type": "code",
   "execution_count": 10,
   "id": "4e1b11f3-6e2b-4a30-b009-cc451dc4db07",
   "metadata": {},
   "outputs": [
    {
     "name": "stdout",
     "output_type": "stream",
     "text": [
      "x + 7 =  [ 8  9 10]\n"
     ]
    }
   ],
   "source": [
    "# а теперь вернёмся к примеру, который уже был ранее,\n",
    "# но на него не обратили внимание: добавим к массиву скаляр\n",
    "# (очевидно, что их размеры не совпадают)\n",
    "print(\"x + 7 = \", x + 7)"
   ]
  },
  {
   "cell_type": "code",
   "execution_count": 11,
   "id": "699e1d99-85ba-4d15-9f35-98a6aa849aea",
   "metadata": {},
   "outputs": [
    {
     "name": "stdout",
     "output_type": "stream",
     "text": [
      "x + [7 7 7] =  [ 8  9 10]\n"
     ]
    }
   ],
   "source": [
    "# фактически эта операция эквивалентна следующей\n",
    "print(\"x + [7 7 7] = \", x + np.array([7, 7, 7]))"
   ]
  },
  {
   "cell_type": "markdown",
   "id": "50492e0f-151b-46fb-a37e-8508934d4400",
   "metadata": {},
   "source": [
    "В этом и заключается вся \"магия\" broadcasting'а: NumPy под капотом без явной дупликации (для оптимизации расхода памяти) \"растягивает\" скаляр до нужных размеров, чтобы сделать операции совместными. Конечно, broadcasting не всегда можно применить (об этом правилах приведения размеров поговорим позже), а пока давайте посмотрим на ещё пару примеров"
   ]
  },
  {
   "cell_type": "code",
   "execution_count": 12,
   "id": "fd0928cc-cd41-4408-8a7b-574fde2f18c4",
   "metadata": {},
   "outputs": [
    {
     "data": {
      "text/plain": [
       "array([[1, 1, 1],\n",
       "       [1, 1, 1],\n",
       "       [1, 1, 1]])"
      ]
     },
     "execution_count": 12,
     "metadata": {},
     "output_type": "execute_result"
    }
   ],
   "source": [
    "m = np.ones((3, 3), dtype=int)\n",
    "m"
   ]
  },
  {
   "cell_type": "code",
   "execution_count": 13,
   "id": "6a672684-b1bc-42c2-ab3d-1b50438dd7a8",
   "metadata": {},
   "outputs": [
    {
     "data": {
      "text/plain": [
       "array([[2, 3, 4],\n",
       "       [2, 3, 4],\n",
       "       [2, 3, 4]])"
      ]
     },
     "execution_count": 13,
     "metadata": {},
     "output_type": "execute_result"
    }
   ],
   "source": [
    "# приведение одномерного массива к двумерному\n",
    "m + x"
   ]
  },
  {
   "cell_type": "code",
   "execution_count": 14,
   "id": "9732ff3b-1012-4ad1-a23d-b0ad61346a00",
   "metadata": {},
   "outputs": [
    {
     "data": {
      "text/plain": [
       "array([[ 2],\n",
       "       [-4],\n",
       "       [ 1]])"
      ]
     },
     "execution_count": 14,
     "metadata": {},
     "output_type": "execute_result"
    }
   ],
   "source": [
    "z = np.array([2, -4, 1]).reshape(3, 1)\n",
    "z"
   ]
  },
  {
   "cell_type": "code",
   "execution_count": 15,
   "id": "a7cdcf25-0891-4e62-92a2-12a08c9bb84e",
   "metadata": {},
   "outputs": [
    {
     "data": {
      "text/plain": [
       "array([[ 3,  4,  5],\n",
       "       [-3, -2, -1],\n",
       "       [ 2,  3,  4]])"
      ]
     },
     "execution_count": 15,
     "metadata": {},
     "output_type": "execute_result"
    }
   ],
   "source": [
    "# сложим строчку со столбцом (да, возможно даже такое)\n",
    "x + z"
   ]
  },
  {
   "cell_type": "markdown",
   "id": "0d485ec2-efd2-4a0c-9a75-698d7b90234c",
   "metadata": {},
   "source": [
    "## 2.2. Правила приведения размеров массивов"
   ]
  },
  {
   "cell_type": "markdown",
   "id": "789e8029-08e6-4c7e-add0-b36cbc32e52c",
   "metadata": {},
   "source": [
    "Как было скзаано ранее, broadcasting - это не панацея. Есть определённые правила и ограничения, которые нужно деражть в голове, чтобу получить тот результат, который соответствует цели и ожиданиям.\n",
    "\n",
    "1) Если два массива отличаются по количеству измерений, то форма массива с меньшим количеством измерений дополняется единицами с ведущей (левой) стороны\n",
    "2) Если форма двух массивов не совпадает в каком-либо измерении, то массив с формой, равной 1 в этом измерении, растягивается до соответствия другой форме\n",
    "3) Если в каком-либо измерении размеры не совпадают и ни один из них не равен 1, то выдается ошибка\n",
    "\n",
    "Применяя описанные выше правила, размеры массивов либо будут приведены к форме, допускающей проведение опреации, либо выдастся сообщение о соответствующей ошибке"
   ]
  },
  {
   "cell_type": "markdown",
   "id": "2bdf31cd-e937-4eb0-a1d4-ca9d81476b4b",
   "metadata": {},
   "source": [
    "## 2.3. Примеры работы"
   ]
  },
  {
   "cell_type": "markdown",
   "id": "9a562a1d-6bdd-435d-b7b1-6ec3154136f9",
   "metadata": {},
   "source": [
    "### Пример 1"
   ]
  },
  {
   "cell_type": "code",
   "execution_count": 16,
   "id": "2031d9da-cf4f-4d25-915b-d66399ee16c9",
   "metadata": {},
   "outputs": [
    {
     "name": "stdout",
     "output_type": "stream",
     "text": [
      "x.shape:  (2, 3)\n",
      "y.shape:  (3,)\n"
     ]
    }
   ],
   "source": [
    "x = np.ones((2, 3), dtype=int)\n",
    "y = np.arange(3, dtype=int)\n",
    "\n",
    "print(\"x.shape: \", x.shape)\n",
    "print(\"y.shape: \", y.shape)"
   ]
  },
  {
   "cell_type": "markdown",
   "id": "eb714456-0e42-47c0-8806-b4d9dfbe348f",
   "metadata": {},
   "source": [
    "Что будет происходить? Рассмотрим по порядку:\n",
    "\n",
    "1) размеры массивов не совпадают => согласно правилу (1) размер массив с меньшим количеством измерений дополняется единицами слева, т.е. `y.shape => (1, 3)`\n",
    "2) согласно правилу (2) мы растягиваем размер первого массива вдоль несогласованного измерения, т.е. `y.shape => (2, 3)`"
   ]
  },
  {
   "cell_type": "code",
   "execution_count": 17,
   "id": "81c6ab51-bccc-43b6-91ab-83d4f6d372eb",
   "metadata": {},
   "outputs": [
    {
     "data": {
      "text/plain": [
       "array([[1, 2, 3],\n",
       "       [1, 2, 3]])"
      ]
     },
     "execution_count": 17,
     "metadata": {},
     "output_type": "execute_result"
    }
   ],
   "source": [
    " # финально\n",
    "x + y"
   ]
  },
  {
   "cell_type": "markdown",
   "id": "0713ad40-2d14-4588-b18d-a127d1682730",
   "metadata": {},
   "source": [
    "### Пример 2"
   ]
  },
  {
   "cell_type": "code",
   "execution_count": 18,
   "id": "c83336e0-8cf3-4b80-bbde-b1467edc63b9",
   "metadata": {},
   "outputs": [
    {
     "name": "stdout",
     "output_type": "stream",
     "text": [
      "x.shape:  (3, 1)\n",
      "y.shape:  (3,)\n"
     ]
    }
   ],
   "source": [
    "x = np.arange(3, dtype=int).reshape((3, 1))\n",
    "y = np.arange(3, dtype=int)\n",
    "\n",
    "print(\"x.shape: \", x.shape)\n",
    "print(\"y.shape: \", y.shape)"
   ]
  },
  {
   "cell_type": "markdown",
   "id": "0696dc5a-9ab2-4400-a042-6c412dff8d1c",
   "metadata": {},
   "source": [
    "Вновь обратимся к правилам:\n",
    "\n",
    "1) согласно правилу (1) размер массив с меньшим количеством измерений дополняется единицами слева, т.е. `y.shape => (1, 3)`\n",
    "2) согласно правилу (2) ОБА массива растягиваются вдоль тех измерений, где есть различия, т.е. `x.shape => (3, 3)` и `y.shape => (3, 3)`"
   ]
  },
  {
   "cell_type": "code",
   "execution_count": 19,
   "id": "515a6ec3-7dc4-40e8-9f3a-a3be2ff6c0d8",
   "metadata": {},
   "outputs": [
    {
     "data": {
      "text/plain": [
       "array([[0, 1, 2],\n",
       "       [1, 2, 3],\n",
       "       [2, 3, 4]])"
      ]
     },
     "execution_count": 19,
     "metadata": {},
     "output_type": "execute_result"
    }
   ],
   "source": [
    " # финально\n",
    "x + y"
   ]
  },
  {
   "cell_type": "markdown",
   "id": "9b128f83-bf05-44f3-a6df-6519c3630b47",
   "metadata": {},
   "source": [
    "### Пример 3"
   ]
  },
  {
   "cell_type": "code",
   "execution_count": 20,
   "id": "d360faac-f16b-4b6f-8fd9-74fd77f09de3",
   "metadata": {},
   "outputs": [
    {
     "name": "stdout",
     "output_type": "stream",
     "text": [
      "x.shape:  (3, 2)\n",
      "y.shape:  (3,)\n"
     ]
    }
   ],
   "source": [
    "x = np.ones((3, 2), dtype=int)\n",
    "y = np.arange(3)\n",
    "\n",
    "print(\"x.shape: \", x.shape)\n",
    "print(\"y.shape: \", y.shape)"
   ]
  },
  {
   "cell_type": "markdown",
   "id": "2ce96e8b-94dd-4683-ae45-c24d1b75f69c",
   "metadata": {},
   "source": [
    "Смотрим в очередной раз:\n",
    "\n",
    "1) согласно правилу (1) размер массив с меньшим количеством измерений дополняется единицами слева, т.е. `y.shape => (1, 3)`\n",
    "2) согласно правилу (2) массив `y` растягивается вдоль тех измерений, где есть различия, т.е. `y.shape => (3, 3)`\n",
    "\n",
    "На выходе получаем `x.shape = (3, 2)` и `y.shape => (3, 3)`, что даёт нам невозможность провести broadcasting по правилу (3)"
   ]
  },
  {
   "cell_type": "code",
   "execution_count": 21,
   "id": "97197591-7b5e-43ac-bb7d-49dba61fa9e7",
   "metadata": {},
   "outputs": [
    {
     "name": "stdout",
     "output_type": "stream",
     "text": [
      "ERROR:\n",
      " operands could not be broadcast together with shapes (3,2) (3,) \n"
     ]
    }
   ],
   "source": [
    "try:\n",
    "    x + y\n",
    "except Exception as e:\n",
    "    print(\"ERROR:\\n\", e)"
   ]
  },
  {
   "cell_type": "markdown",
   "id": "1b21bdc4-98bb-4ca4-94ca-4d92c8dc174e",
   "metadata": {},
   "source": [
    "# Часть 3. Маски и булева логика"
   ]
  },
  {
   "cell_type": "markdown",
   "id": "eea2f03a-3a8b-452a-8059-5467344a6a97",
   "metadata": {},
   "source": [
    "## 3.1. Использование операторов сравнения в качестве UFuncs"
   ]
  },
  {
   "cell_type": "markdown",
   "id": "daf4e17d-0ca7-40a0-900c-cb4ec99fa566",
   "metadata": {},
   "source": [
    "Ранее в разделе про универсальные функции мы говорили о том, какие они бывают и в целом для чего предназначались. Однако их полезность на преобразовании не заканчиваются. Из курса дискретной математики или логики вы наверняка помните, что значения могут быть истинными (True) или ложными (False). В случае с использованием UFuncs есть специальные процедуры, позволяющие работать с этими значениями"
   ]
  },
  {
   "cell_type": "code",
   "execution_count": 22,
   "id": "30a09e26-e606-4ee1-9d84-4c7f8737d3be",
   "metadata": {},
   "outputs": [
    {
     "data": {
      "text/plain": [
       "array([1, 2, 3, 4, 5])"
      ]
     },
     "execution_count": 22,
     "metadata": {},
     "output_type": "execute_result"
    }
   ],
   "source": [
    "x = np.arange(1, 6)\n",
    "x"
   ]
  },
  {
   "cell_type": "code",
   "execution_count": 23,
   "id": "7220cc09-af66-4177-97b4-442e7563d3f4",
   "metadata": {},
   "outputs": [
    {
     "data": {
      "text/plain": [
       "array([ True,  True, False, False, False])"
      ]
     },
     "execution_count": 23,
     "metadata": {},
     "output_type": "execute_result"
    }
   ],
   "source": [
    "# удовлетворяет ли значение условию\n",
    "x <= 2"
   ]
  },
  {
   "cell_type": "code",
   "execution_count": 24,
   "id": "0dc0bd95-a9df-4cc1-8e01-350530fd8e2f",
   "metadata": {},
   "outputs": [
    {
     "data": {
      "text/plain": [
       "array([False, False, False,  True,  True])"
      ]
     },
     "execution_count": 24,
     "metadata": {},
     "output_type": "execute_result"
    }
   ],
   "source": [
    "# удовлетворяет ли значение условию\n",
    "x > 3"
   ]
  },
  {
   "cell_type": "markdown",
   "id": "52ee69bb-9d11-4de8-afb6-db7a6b851e99",
   "metadata": {},
   "source": [
    "Таким образом, можно проводить проверки, удовлетворяет ли объект на определённой позиции заданному свойству. Обратите внимание, что для многомерных массивов всё работает по абсолютно тому же принципу"
   ]
  },
  {
   "cell_type": "code",
   "execution_count": 25,
   "id": "b0a1e203-84f4-4754-9d90-bfb14d20c7a0",
   "metadata": {},
   "outputs": [
    {
     "data": {
      "text/plain": [
       "array([[1, 2, 3],\n",
       "       [4, 5, 6]])"
      ]
     },
     "execution_count": 25,
     "metadata": {},
     "output_type": "execute_result"
    }
   ],
   "source": [
    "x = np.arange(1, 7).reshape((2, 3))\n",
    "x"
   ]
  },
  {
   "cell_type": "code",
   "execution_count": 26,
   "id": "3e35f2d8-89b3-4c77-84a4-77a8a1e0d626",
   "metadata": {},
   "outputs": [
    {
     "data": {
      "text/plain": [
       "array([[ True,  True, False],\n",
       "       [False, False, False]])"
      ]
     },
     "execution_count": 26,
     "metadata": {},
     "output_type": "execute_result"
    }
   ],
   "source": [
    "x < 3"
   ]
  },
  {
   "cell_type": "markdown",
   "id": "43ef5a3c-2542-49f1-8a61-1978ae6653a6",
   "metadata": {},
   "source": [
    "## 3.2. Булевы массивы"
   ]
  },
  {
   "cell_type": "markdown",
   "id": "b071dc5f-87b5-436a-88bc-75f961b9129e",
   "metadata": {},
   "source": [
    "Немного углубим наши воспоминания в дискретной математике. Чаще всего истинное значение рассматривалось эквивалентным 1, а ложное - 0. Этим знанием можно пользоваться, чтобы вести подсчёт элементов, удовлетворяющим определённым свойствам"
   ]
  },
  {
   "cell_type": "code",
   "execution_count": 27,
   "id": "05c948bf-71a9-4de6-8cc2-59050fdd62e5",
   "metadata": {},
   "outputs": [
    {
     "data": {
      "text/plain": [
       "array([[ 1,  2,  3],\n",
       "       [ 4,  5,  6],\n",
       "       [ 7,  8,  9],\n",
       "       [10, 11, 12]])"
      ]
     },
     "execution_count": 27,
     "metadata": {},
     "output_type": "execute_result"
    }
   ],
   "source": [
    "x = np.arange(1, 13).reshape(4, 3)\n",
    "x"
   ]
  },
  {
   "cell_type": "code",
   "execution_count": 28,
   "id": "30c1b8e0-50af-4dca-9361-0a153c40aafa",
   "metadata": {},
   "outputs": [
    {
     "data": {
      "text/plain": [
       "4"
      ]
     },
     "execution_count": 28,
     "metadata": {},
     "output_type": "execute_result"
    }
   ],
   "source": [
    "# посчитаем количество значений, меньших чем 5\n",
    "np.count_nonzero(x < 5)"
   ]
  },
  {
   "cell_type": "code",
   "execution_count": 29,
   "id": "db0bd7dc-25ce-481e-aa89-9de0f9d21987",
   "metadata": {},
   "outputs": [
    {
     "data": {
      "text/plain": [
       "4"
      ]
     },
     "execution_count": 29,
     "metadata": {},
     "output_type": "execute_result"
    }
   ],
   "source": [
    "# посчитаем количество значений, меньших чем 5, но уже через сумму\n",
    "np.sum(x < 5)"
   ]
  },
  {
   "cell_type": "code",
   "execution_count": 30,
   "id": "22805bc4-5c3e-4674-b7ba-0f465229b7c4",
   "metadata": {},
   "outputs": [
    {
     "data": {
      "text/plain": [
       "array([3, 2, 0, 0])"
      ]
     },
     "execution_count": 30,
     "metadata": {},
     "output_type": "execute_result"
    }
   ],
   "source": [
    "# если функция np.count_nonzero работает без указания измерения,\n",
    "# то np.sum может провести агрегацию вдоль указанного измерения\n",
    "# например, сколько значений меньше 6 в каждой строке\n",
    "np.sum(x < 6, axis=1)"
   ]
  },
  {
   "cell_type": "markdown",
   "id": "7b332ce0-2c7c-4789-b952-b7462c603742",
   "metadata": {},
   "source": [
    "Также порой удобно использовать функции `np.any` и `np.all` для проверки, выполняется ли заданное условие для хотя бы одного или для всех элементов соответственно"
   ]
  },
  {
   "cell_type": "code",
   "execution_count": 31,
   "id": "3e4aa55d-bedc-4888-a9a4-b249eb08a6d9",
   "metadata": {},
   "outputs": [
    {
     "data": {
      "text/plain": [
       "True"
      ]
     },
     "execution_count": 31,
     "metadata": {},
     "output_type": "execute_result"
    }
   ],
   "source": [
    "# есть ли хотя бы одно число, большее 8\n",
    "np.any(x > 8)"
   ]
  },
  {
   "cell_type": "code",
   "execution_count": 32,
   "id": "5938ad9d-8fb0-497e-b056-684ed2f6a676",
   "metadata": {},
   "outputs": [
    {
     "data": {
      "text/plain": [
       "False"
      ]
     },
     "execution_count": 32,
     "metadata": {},
     "output_type": "execute_result"
    }
   ],
   "source": [
    "# есть ли хотя бы одно число, меньшее 0\n",
    "np.any(x < 0)"
   ]
  },
  {
   "cell_type": "code",
   "execution_count": 33,
   "id": "93002518-e977-49c4-9a72-30658ee8cfd4",
   "metadata": {},
   "outputs": [
    {
     "data": {
      "text/plain": [
       "True"
      ]
     },
     "execution_count": 33,
     "metadata": {},
     "output_type": "execute_result"
    }
   ],
   "source": [
    "# все ли значения в массиве меньше 100\n",
    "np.all(x < 100)"
   ]
  },
  {
   "cell_type": "code",
   "execution_count": 34,
   "id": "dbbb70d3-1225-4c90-b33d-f012a8e30578",
   "metadata": {},
   "outputs": [
    {
     "data": {
      "text/plain": [
       "False"
      ]
     },
     "execution_count": 34,
     "metadata": {},
     "output_type": "execute_result"
    }
   ],
   "source": [
    "# все ли значения в массиве больше 3\n",
    "np.all(x > 3)"
   ]
  },
  {
   "cell_type": "markdown",
   "id": "e388a124-40ec-424b-84fd-80fc1dc1b30d",
   "metadata": {},
   "source": [
    "Обратите внимание, что аналогично `np.sum` функции `np.any` и `np.all` могут быть применены к объектам выбранного измерения"
   ]
  },
  {
   "cell_type": "markdown",
   "id": "7762d273-d7b0-4f7f-91d5-d88340d1434a",
   "metadata": {},
   "source": [
    "## 3.3. Использование булевых массивов в качестве масок"
   ]
  },
  {
   "cell_type": "markdown",
   "id": "29866ee8-183d-4ae6-b6fd-bf308aa2c7bb",
   "metadata": {},
   "source": [
    "И в заключение этой части очень важный трюк. В NumPy у нас есть не только возможность проверять каждый элемент на соответствие определённому условию, но и выбирать эти элементы для последующей обработки"
   ]
  },
  {
   "cell_type": "code",
   "execution_count": 35,
   "id": "2b5a1362-8cb0-471a-b2f9-ccf43ef6e744",
   "metadata": {},
   "outputs": [
    {
     "data": {
      "text/plain": [
       "array([[ 1,  2,  3],\n",
       "       [ 4,  5,  6],\n",
       "       [ 7,  8,  9],\n",
       "       [10, 11, 12]])"
      ]
     },
     "execution_count": 35,
     "metadata": {},
     "output_type": "execute_result"
    }
   ],
   "source": [
    "x = np.arange(1, 13).reshape(4, 3)\n",
    "x"
   ]
  },
  {
   "cell_type": "code",
   "execution_count": 36,
   "id": "d9e5c625-82a6-47e5-b687-5a62fdc6dbb1",
   "metadata": {},
   "outputs": [
    {
     "data": {
      "text/plain": [
       "array([[ True,  True,  True],\n",
       "       [ True, False, False],\n",
       "       [False, False, False],\n",
       "       [False,  True,  True]])"
      ]
     },
     "execution_count": 36,
     "metadata": {},
     "output_type": "execute_result"
    }
   ],
   "source": [
    "# запишем в маску результат проверки (x < 5) | (x > 10)\n",
    "mask = (x < 5) | (x > 10)\n",
    "mask"
   ]
  },
  {
   "cell_type": "code",
   "execution_count": 37,
   "id": "4713d079-c8d7-4293-a84a-841104f3680c",
   "metadata": {},
   "outputs": [
    {
     "data": {
      "text/plain": [
       "array([ 1,  2,  3,  4, 11, 12])"
      ]
     },
     "execution_count": 37,
     "metadata": {},
     "output_type": "execute_result"
    }
   ],
   "source": [
    "# выберем элементы, которые удовлетворяют этому условию,\n",
    "# т.е. мы выбрали все числа, которые меньше 5 или больше 10\n",
    "x[mask]"
   ]
  },
  {
   "cell_type": "markdown",
   "id": "934f30bf-7bfe-4f2c-8a64-d751bc39e5c2",
   "metadata": {},
   "source": [
    "Таким образом, комбинируя разные условия можно создавать специализирванные подвыборки из массивов"
   ]
  },
  {
   "cell_type": "markdown",
   "id": "3ab7ee5b-193f-4e34-90a6-efb0c7941a28",
   "metadata": {},
   "source": [
    "# Часть 4. Структурированные массивы"
   ]
  },
  {
   "cell_type": "markdown",
   "id": "91977830-1d3f-4919-be74-c6cd635a0887",
   "metadata": {},
   "source": [
    "До этого момента мы работали преимущественно с числовыми векторами. Однако на практике часто возникают задачи, когда нужно работать с массивами каких-либо более сложных сущностей: например, нужно обработать миллион заказов, у каждого из которых есть:\n",
    "- дата совершения\n",
    "- сумма заказа\n",
    "- дата доставки\n",
    "\n",
    "В таком случае мы уже имеем дело с целыми структурами, обо обработке которых с помощью NumPy мы и поговорим"
   ]
  },
  {
   "cell_type": "code",
   "execution_count": 38,
   "id": "e23d9b9b-f6ed-4645-97c2-f3eb2c6f2def",
   "metadata": {},
   "outputs": [],
   "source": [
    "platforms = [\"website\", \"ios\", \"android\", \"windows phone\"]\n",
    "num_active_versions = [14, 4, 8, 1]\n",
    "complexity = [1.0, 1.4, 0.9, 2.1]"
   ]
  },
  {
   "cell_type": "markdown",
   "id": "52bf9ab6-affd-4df3-bd67-82bdc9d23a41",
   "metadata": {},
   "source": [
    "Выше представлены фейковые данные о каком-нибудь приложении, которое представлено на ряде платформ. На каждой из платформ может быть своё число активных версий (в зависимости от процедуры AB-тестирования). Кроме того, каждая из платформа имеет свой порог вхождения в разработку и сложность поддержки.\n",
    "\n",
    "Конечно, можно обрабатывать каждый из списков отдельно, но это не очень удобно. Посмотрим, что может предложить NumPy"
   ]
  },
  {
   "cell_type": "code",
   "execution_count": 39,
   "id": "13df448b-4c78-4e20-8c5f-39c60717384d",
   "metadata": {},
   "outputs": [
    {
     "name": "stdout",
     "output_type": "stream",
     "text": [
      "[('platform', '<U16'), ('num_active_versions', '<i4'), ('complexity', '<f8')]\n"
     ]
    }
   ],
   "source": [
    "data = np.zeros(\n",
    "    4,\n",
    "    dtype={\n",
    "        \"names\": [\"platform\", \"num_active_versions\", \"complexity\"],\n",
    "        \"formats\": [\"U16\", \"i4\", \"f8\"]\n",
    "    }\n",
    ")\n",
    "print(data.dtype)"
   ]
  },
  {
   "cell_type": "markdown",
   "id": "8f69e2a5-9880-431b-a060-8ec07692e4ae",
   "metadata": {},
   "source": [
    "Теперь, когда подготовлен некоторый placeholder, мы можем наполнить его реальными данными"
   ]
  },
  {
   "cell_type": "code",
   "execution_count": 40,
   "id": "43a4551a-aa53-425d-98c6-90d2b359af02",
   "metadata": {},
   "outputs": [
    {
     "name": "stdout",
     "output_type": "stream",
     "text": [
      "('website', 14, 1.)\n",
      "('ios', 4, 1.4)\n",
      "('android', 8, 0.9)\n",
      "('windows phone', 1, 2.1)\n"
     ]
    }
   ],
   "source": [
    "data[\"platform\"] = platforms\n",
    "data[\"num_active_versions\"] = num_active_versions\n",
    "data[\"complexity\"] = complexity\n",
    "\n",
    "for _ in data:\n",
    "    print(_)"
   ]
  },
  {
   "cell_type": "markdown",
   "id": "16496267-cb6e-44cc-8585-01d6509aa3d9",
   "metadata": {},
   "source": [
    "Посмотрим, какие возможности у нас теперь есть"
   ]
  },
  {
   "cell_type": "code",
   "execution_count": 41,
   "id": "7d7dc5f9-a458-4121-9412-43d3927c6ec4",
   "metadata": {},
   "outputs": [
    {
     "data": {
      "text/plain": [
       "array(['website', 'ios', 'android', 'windows phone'], dtype='<U16')"
      ]
     },
     "execution_count": 41,
     "metadata": {},
     "output_type": "execute_result"
    }
   ],
   "source": [
    "# вытаскивать список всех платформ\n",
    "data[\"platform\"]"
   ]
  },
  {
   "cell_type": "code",
   "execution_count": 42,
   "id": "855d7b30-8df6-4ece-ba15-aeb66f745a09",
   "metadata": {},
   "outputs": [
    {
     "data": {
      "text/plain": [
       "('windows phone', 1, 2.1)"
      ]
     },
     "execution_count": 42,
     "metadata": {},
     "output_type": "execute_result"
    }
   ],
   "source": [
    "# вытаскивать все атрибуты для конкретной строки\n",
    "data[3]"
   ]
  },
  {
   "cell_type": "code",
   "execution_count": 43,
   "id": "e56b804c-adf7-421a-a3c5-1f5f7a64421c",
   "metadata": {},
   "outputs": [
    {
     "name": "stdout",
     "output_type": "stream",
     "text": [
      "['ios' 'windows phone']\n"
     ]
    }
   ],
   "source": [
    "# использовать маски для подвыборки\n",
    "print(data[data[\"complexity\"] > 1.0][\"platform\"])"
   ]
  },
  {
   "cell_type": "markdown",
   "id": "67223e5a-3489-46c0-b1e7-a0cf0c340373",
   "metadata": {},
   "source": [
    "На самом деле структурированные массивы являются концепцией, крайне близкой к таблицам pandas, но об этом речь уже пойдёт в следующем занятии (:"
   ]
  }
 ],
 "metadata": {
  "kernelspec": {
   "display_name": "Python 3.11.6 64-bit",
   "language": "python",
   "name": "python3"
  },
  "language_info": {
   "codemirror_mode": {
    "name": "ipython",
    "version": 3
   },
   "file_extension": ".py",
   "mimetype": "text/x-python",
   "name": "python",
   "nbconvert_exporter": "python",
   "pygments_lexer": "ipython3",
   "version": "3.11.6"
  },
  "vscode": {
   "interpreter": {
    "hash": "5c7b89af1651d0b8571dde13640ecdccf7d5a6204171d6ab33e7c296e100e08a"
   }
  }
 },
 "nbformat": 4,
 "nbformat_minor": 5
}
